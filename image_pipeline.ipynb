{
 "cells": [
  {
   "cell_type": "markdown",
   "metadata": {},
   "source": [
    "# Image processing and segmentation pipeline"
   ]
  },
  {
   "cell_type": "markdown",
   "metadata": {},
   "source": [
    "## Imports"
   ]
  },
  {
   "cell_type": "code",
   "execution_count": 1,
   "metadata": {},
   "outputs": [],
   "source": [
    "import cv2\n",
    "import shutil\n",
    "from skimage.filters import roberts, prewitt, threshold_otsu\n",
    "from skimage.io import imread, imsave\n",
    "from skimage.morphology import disk, binary_erosion\n",
    "from skimage.measure import label, regionprops\n",
    "from skimage.segmentation import clear_border\n",
    "from skimage.exposure import equalize_adapthist\n",
    "from scipy import ndimage as ndi\n",
    "from tqdm import tqdm\n",
    "import os\n",
    "import numpy as np\n",
    "import pandas as pd\n",
    "import warnings\n",
    "\n",
    "\n",
    "import matplotlib.pyplot as plt\n",
    "plt.rcParams[\"figure.figsize\"] = (10, 10)\n"
   ]
  },
  {
   "cell_type": "markdown",
   "metadata": {},
   "source": [
    "## Setting up constants for directory management"
   ]
  },
  {
   "cell_type": "code",
   "execution_count": 2,
   "metadata": {},
   "outputs": [],
   "source": [
    "# Change ENV to suitable value, otherwise there could be multiple issues\n",
    "ENV = \"local\"  # \"local\" or \"colab\"\n",
    "LOCAL_DIR = os.path.join(\"path\", \"to\", \"local\", \"dir\")\n",
    "GOOGLEDRIVE_DIR = os.path.join(\"/content\", \"drive\", \"My Drive\")\n",
    "WORKING_DIR = os.path.join(\"dataset\", \"COVID-CTset\")\n",
    "DATA_DIR = os.path.join(LOCAL_DIR, WORKING_DIR) if ENV == \"local\" else os.path.join(\n",
    "    GOOGLEDRIVE_DIR, WORKING_DIR)\n",
    "EXPORT_PATH = os.path.join(LOCAL_DIR, \"dataset\", \"processed\") if ENV == \"local\" else os.path.join(\n",
    "    GOOGLEDRIVE_DIR, \"dataset\", \"processed\")\n"
   ]
  },
  {
   "cell_type": "markdown",
   "metadata": {},
   "source": [
    "## CSV file generation\n",
    "\n",
    "Images paths are read from the dataset directory to generate a CSV file containing said paths and their labels for easier processing further down the line"
   ]
  },
  {
   "cell_type": "code",
   "execution_count": 24,
   "metadata": {},
   "outputs": [
    {
     "name": "stderr",
     "output_type": "stream",
     "text": [
      "100%|██████████| 12/12 [00:21<00:00,  1.77s/it]\n"
     ]
    }
   ],
   "source": [
    "images_dir_list = []\n",
    "for folder in tqdm(list(set(os.listdir(DATA_DIR)) - {\"desktop.ini\", \"image_path_and_labels.csv\", \"image_path_and_labels_gdrive.csv\", \"unprocessed_images_gdrive.pickle\"})):\n",
    "    folder = os.path.join(DATA_DIR, folder)\n",
    "    for patient in list(set(os.listdir(folder)) - {\"desktop.ini\"}):\n",
    "        patient = os.path.join(folder, patient)\n",
    "        for sr in list(set(os.listdir(patient)) - {\"desktop.ini\"}):\n",
    "            sr = os.path.join(patient, sr)\n",
    "            for image in list(set(os.listdir(sr)) - {\"desktop.ini\"}):\n",
    "                if image.endswith(\".tif\"):\n",
    "                    images_dir_list.append(os.path.join(sr, image))\n"
   ]
  },
  {
   "cell_type": "code",
   "execution_count": 25,
   "metadata": {},
   "outputs": [
    {
     "name": "stdout",
     "output_type": "stream",
     "text": [
      "<class 'pandas.core.frame.DataFrame'>\n",
      "RangeIndex: 63849 entries, 0 to 63848\n",
      "Data columns (total 1 columns):\n",
      " #   Column      Non-Null Count  Dtype \n",
      "---  ------      --------------  ----- \n",
      " 0   images_dir  63849 non-null  object\n",
      "dtypes: object(1)\n",
      "memory usage: 498.9+ KB\n"
     ]
    }
   ],
   "source": [
    "images_dir_df = pd.DataFrame(images_dir_list, columns=[\"images_dir\"])\n",
    "images_dir_df.info()\n"
   ]
  },
  {
   "cell_type": "code",
   "execution_count": 26,
   "metadata": {},
   "outputs": [],
   "source": [
    "def get_img_lables(list):\n",
    "    \"\"\"\n",
    "    Helper functions to get the labels from the image path\n",
    "\n",
    "        Parameters\n",
    "        ----------\n",
    "        list : list\n",
    "            List of image paths\n",
    "    \"\"\"\n",
    "    labels = []\n",
    "    for _, image_path in enumerate(list):\n",
    "        image_path = os.path.normpath(image_path)\n",
    "        split_image_path = image_path.split(os.sep)\n",
    "        if \"covid\" in split_image_path[-4]:\n",
    "            labels.append(1)\n",
    "        else:\n",
    "            labels.append(0)\n",
    "    return labels\n"
   ]
  },
  {
   "cell_type": "code",
   "execution_count": 27,
   "metadata": {},
   "outputs": [
    {
     "data": {
      "text/html": [
       "<div>\n",
       "<style scoped>\n",
       "    .dataframe tbody tr th:only-of-type {\n",
       "        vertical-align: middle;\n",
       "    }\n",
       "\n",
       "    .dataframe tbody tr th {\n",
       "        vertical-align: top;\n",
       "    }\n",
       "\n",
       "    .dataframe thead th {\n",
       "        text-align: right;\n",
       "    }\n",
       "</style>\n",
       "<table border=\"1\" class=\"dataframe\">\n",
       "  <thead>\n",
       "    <tr style=\"text-align: right;\">\n",
       "      <th></th>\n",
       "      <th>images_dir</th>\n",
       "      <th>class</th>\n",
       "    </tr>\n",
       "  </thead>\n",
       "  <tbody>\n",
       "    <tr>\n",
       "      <th>0</th>\n",
       "      <td>G:My Drive\\MSc CS Project\\Dataset\\COVID-CTset\\...</td>\n",
       "      <td>0</td>\n",
       "    </tr>\n",
       "    <tr>\n",
       "      <th>1</th>\n",
       "      <td>G:My Drive\\MSc CS Project\\Dataset\\COVID-CTset\\...</td>\n",
       "      <td>0</td>\n",
       "    </tr>\n",
       "    <tr>\n",
       "      <th>2</th>\n",
       "      <td>G:My Drive\\MSc CS Project\\Dataset\\COVID-CTset\\...</td>\n",
       "      <td>0</td>\n",
       "    </tr>\n",
       "    <tr>\n",
       "      <th>3</th>\n",
       "      <td>G:My Drive\\MSc CS Project\\Dataset\\COVID-CTset\\...</td>\n",
       "      <td>0</td>\n",
       "    </tr>\n",
       "    <tr>\n",
       "      <th>4</th>\n",
       "      <td>G:My Drive\\MSc CS Project\\Dataset\\COVID-CTset\\...</td>\n",
       "      <td>0</td>\n",
       "    </tr>\n",
       "  </tbody>\n",
       "</table>\n",
       "</div>"
      ],
      "text/plain": [
       "                                          images_dir  class\n",
       "0  G:My Drive\\MSc CS Project\\Dataset\\COVID-CTset\\...      0\n",
       "1  G:My Drive\\MSc CS Project\\Dataset\\COVID-CTset\\...      0\n",
       "2  G:My Drive\\MSc CS Project\\Dataset\\COVID-CTset\\...      0\n",
       "3  G:My Drive\\MSc CS Project\\Dataset\\COVID-CTset\\...      0\n",
       "4  G:My Drive\\MSc CS Project\\Dataset\\COVID-CTset\\...      0"
      ]
     },
     "execution_count": 27,
     "metadata": {},
     "output_type": "execute_result"
    }
   ],
   "source": [
    "images_dir_df[\"class\"] = get_img_lables(images_dir_df[\"images_dir\"])\n",
    "images_dir_df.to_csv(os.path.join(\n",
    "    DATA_DIR, \"image_path_and_labels.csv\"), index=False)\n",
    "images_dir_df.head()\n"
   ]
  },
  {
   "cell_type": "markdown",
   "metadata": {},
   "source": [
    "## Segmentation functions"
   ]
  },
  {
   "cell_type": "code",
   "execution_count": 3,
   "metadata": {},
   "outputs": [],
   "source": [
    "def get_segmented_lung(src_image, plot=False):\n",
    "    \"\"\"\n",
    "    Function to segment lungs from chest CT scans\n",
    "\n",
    "        Parameters\n",
    "        ----------\n",
    "        src_image : numpy array\n",
    "            Source image\n",
    "        plot : bool\n",
    "            Whether to plot the results for each step\n",
    "    \"\"\"\n",
    "\n",
    "    image = src_image.copy()\n",
    "    if plot == True:\n",
    "        f, plots = plt.subplots(2, 4, figsize=(40, 20))\n",
    "        f.tight_layout()\n",
    "        plots[0, 0].axis('off')\n",
    "        plots[0, 0].set_title('Original Image')\n",
    "        plots[0, 0].imshow(image, cmap=plt.cm.bone)\n",
    "\n",
    "    # Convert to grayscale\n",
    "    threshold = threshold_otsu(image)\n",
    "    binary = src_image < threshold\n",
    "    if plot == True:\n",
    "        plots[0, 1].axis('off')\n",
    "        plots[0, 1].set_title('Binary Image')\n",
    "        plots[0, 1].imshow(binary, cmap=plt.cm.bone)\n",
    "    \n",
    "    # Apply border clearing operation\n",
    "    cleared = clear_border(binary)\n",
    "    if plot == True:\n",
    "        plots[0, 2].axis('off')\n",
    "        plots[0, 2].set_title('Clear Borders')\n",
    "        plots[0, 2].imshow(cleared, cmap=plt.cm.bone)\n",
    "    \n",
    "    # Label images for segmentation\n",
    "    label_image = label(cleared)\n",
    "\n",
    "    if plot == True:\n",
    "        plots[0, 3].axis('off')\n",
    "        plots[0, 3].set_title('Labelled Image')\n",
    "        plots[0, 3].imshow(label_image, cmap=plt.cm.bone)\n",
    "\n",
    "    # Sort labelled areas and get the two highest areas out of the image\n",
    "    areas = [r.area for r in regionprops(label_image)]\n",
    "    areas.sort()\n",
    "    if len(areas) > 2:\n",
    "        for region in regionprops(label_image):\n",
    "            if region.area < areas[-2]:\n",
    "                for coordinates in region.coords:\n",
    "                    label_image[coordinates[0], coordinates[1]] = 0\n",
    "    if plot == True:\n",
    "        plots[1, 0].axis('off')\n",
    "        plots[1, 0].set_title('Region Finding & Sorting')\n",
    "        plots[1, 0].imshow(binary, cmap=plt.cm.bone)\n",
    "\n",
    "    binary = label_image > 0\n",
    "\n",
    "    # Erosion to remove border pixels that might contain extra information\n",
    "    binary = binary_erosion(binary, footprint=disk(2))\n",
    "    if plot == True:\n",
    "        plots[1, 1].axis('off')\n",
    "        plots[1, 1].set_title('Image with Erosion')\n",
    "        plots[1, 1].imshow(binary, cmap=plt.cm.bone)\n",
    "\n",
    "    # Fill holes using edge detection and region growing\n",
    "    edges = prewitt(binary)\n",
    "    binary = ndi.binary_fill_holes(edges)\n",
    "    if plot == True:\n",
    "        plots[1, 2].axis('off')\n",
    "        plots[1, 2].set_title('Region Filling')\n",
    "        plots[1, 2].imshow(binary, cmap=plt.cm.bone)\n",
    "\n",
    "    get_high_vals = binary == 0\n",
    "    image[get_high_vals] = 0\n",
    "    if plot == True:\n",
    "        plots[1, 3].axis('off')\n",
    "        plots[1, 3].set_title('Final binary mask')\n",
    "        plots[1, 3].imshow(image, cmap=plt.cm.bone)\n",
    "\n",
    "    return binary\n"
   ]
  },
  {
   "cell_type": "code",
   "execution_count": 5,
   "metadata": {},
   "outputs": [],
   "source": [
    "def check_image_size(image):\n",
    "    \"\"\"\n",
    "    Function to check the size of the image based on the dimensions of the \n",
    "    mask. If the mask is too small, the image is rejected.\n",
    "    \n",
    "        Parameters\n",
    "        ----------\n",
    "        image : numpy array\n",
    "            Source image\n",
    "    \"\"\"\n",
    "    height, width = image.shape\n",
    "    if height < 120 or width < 120:\n",
    "        return False\n",
    "    else:\n",
    "        if (height / (height + width) > 0.50) or (width / (height + width) > 0.50):\n",
    "            return True\n",
    "        else:\n",
    "            return False\n"
   ]
  },
  {
   "cell_type": "code",
   "execution_count": 8,
   "metadata": {},
   "outputs": [],
   "source": [
    "def contrast_adjustment(image, plot=False):\n",
    "    \"\"\"\n",
    "    Function to adjust the contrast of the image\n",
    "\n",
    "        Parameters\n",
    "        ----------\n",
    "        image : numpy array\n",
    "            Source image\n",
    "        plot : bool\n",
    "            Whether to plot the results for each step\n",
    "    \"\"\"\n",
    "    \n",
    "    if plot == True:\n",
    "        f, plots = plt.subplots(1, 2, figsize=(20, 10))\n",
    "        f.tight_layout()\n",
    "\n",
    "        plots[0].axis('off')\n",
    "        plots[0].set_title('Original Image')\n",
    "        plots[0].imshow(image, cmap=plt.cm.bone)\n",
    "    \n",
    "    image = equalize_adapthist(image, clip_limit=0.01)\n",
    "\n",
    "    if plot == True:\n",
    "        plots[1].axis('off')\n",
    "        plots[1].set_title('Contrast Adjusted Image')\n",
    "        plots[1].imshow(image, cmap=plt.cm.bone)\n",
    "        \n",
    "    return image\n"
   ]
  },
  {
   "cell_type": "code",
   "execution_count": 31,
   "metadata": {},
   "outputs": [],
   "source": [
    "def check_valid_lung(image):\n",
    "    \"\"\"\n",
    "    Check if the lung is valid based on area of the white pixels in the lung mask.\n",
    "    If the area is less than 10% of the total area of the mask, the image is\n",
    "    rejected.\n",
    "\n",
    "        Parameters\n",
    "        ----------\n",
    "        image : numpy array\n",
    "            Source image\n",
    "    \"\"\"\n",
    "\n",
    "    (unique_labels, counts) = np.unique(\n",
    "        image, return_counts=True)\n",
    "    unique_labels, counts\n",
    "\n",
    "    if len(unique_labels) < 2:\n",
    "        return False\n",
    "\n",
    "    count_black, count_white = counts[0], counts[1]\n",
    "    white_amount = count_white / (count_black + count_white)\n",
    "\n",
    "    if white_amount < 0.10:\n",
    "        return False\n",
    "    else:\n",
    "        return True"
   ]
  },
  {
   "cell_type": "code",
   "execution_count": 38,
   "metadata": {},
   "outputs": [],
   "source": [
    "def image_read_crop(image_path, plot=False):\n",
    "    \"\"\"\n",
    "    Function to read the image and crop it to the size of the mask.\n",
    "\n",
    "        Parameters\n",
    "        ----------\n",
    "        image_path : str\n",
    "            Path to the image\n",
    "        plot : bool\n",
    "            Whether to plot the results for each step\n",
    "    \"\"\"\n",
    "    \n",
    "    image = imread(image_path)\n",
    "    if plot == True:\n",
    "        f, plots = plt.subplots(2, 2, figsize=(20, 20))\n",
    "        f.tight_layout()\n",
    "\n",
    "        plots[0, 0].axis('off')\n",
    "        plots[0, 0].set_title('Original Image')\n",
    "        plots[0, 0].imshow(image, cmap=plt.cm.bone)\n",
    "\n",
    "    seg_image = get_segmented_lung(image)\n",
    "    if plot == True:\n",
    "        plots[0, 1].axis('off')\n",
    "        plots[0, 1].set_title('Segmented Lungs')\n",
    "        plots[0, 1].imshow(seg_image, cmap=plt.cm.bone)\n",
    "\n",
    "    lung_validity = check_valid_lung(seg_image)\n",
    "\n",
    "    if lung_validity == False:\n",
    "        return None, None\n",
    "\n",
    "    seg_image = seg_image.astype(np.uint8)\n",
    "\n",
    "    lungX, lungY = np.where(seg_image != 0)\n",
    "    top, bottom = lungY.min(), lungY.max()\n",
    "    left, right = lungX.min(), lungX.max()\n",
    "\n",
    "    seg_crop = seg_image[left:right, top:bottom]\n",
    "    if check_image_size(seg_crop) == False:\n",
    "        return None, None\n",
    "\n",
    "    masked_image = cv2.bitwise_and(image, image, mask=seg_image)\n",
    "    if plot == True:\n",
    "        plots[1, 0].axis('off')\n",
    "        plots[1, 0].set_title('Masked Image')\n",
    "        plots[1, 0].imshow(masked_image, cmap=plt.cm.bone)\n",
    "\n",
    "    lung_crop = image[left:right, top:bottom]\n",
    "    if plot == True:\n",
    "        plots[1, 1].axis('off')\n",
    "        plots[1, 1].set_title('Lungs Cropped')\n",
    "        plots[1, 1].imshow(lung_crop, cmap=plt.cm.bone)\n",
    "\n",
    "    return lung_crop\n"
   ]
  },
  {
   "cell_type": "code",
   "execution_count": 33,
   "metadata": {},
   "outputs": [],
   "source": [
    "def start_preprocess(images_dir_df, export_path, plot=False):\n",
    "    \"\"\"\n",
    "    Helper function to start preprocessing the images.\n",
    "\n",
    "        Parameters\n",
    "        ----------\n",
    "        images_dir_df : pandas dataframe\n",
    "            Dataframe containing the image paths and labels\n",
    "        export_path : str\n",
    "            Path to the export folder\n",
    "        plot : bool\n",
    "            Whether to plot the results for each step\n",
    "    \"\"\"\n",
    "    \n",
    "    normal_export_path = os.path.join(EXPORT_PATH, \"normal\")\n",
    "    covid_export_path = os.path.join(EXPORT_PATH, \"covid\")\n",
    "    if not os.path.exists(export_path):\n",
    "        os.mkdir(export_path)\n",
    "        os.mkdir(normal_export_path)\n",
    "        os.mkdir(covid_export_path)\n",
    "    else:\n",
    "        shutil.rmtree(export_path)\n",
    "        os.mkdir(export_path)\n",
    "        os.mkdir(normal_export_path)\n",
    "        os.mkdir(covid_export_path)\n",
    "\n",
    "    for index, row in tqdm(images_dir_df.iterrows(), total=images_dir_df.shape[0]):\n",
    "        try:\n",
    "            image_path = row[\"images_dir\"]\n",
    "            image_label = \"covid\" if row[\"class\"] == 1 else \"normal\"\n",
    "            image = image_read_crop(image_path, plot=plot)\n",
    "            image = contrast_adjustment(\n",
    "                image)\n",
    "            image = image / image.max()\n",
    "            image = 255 * image\n",
    "            image = image.astype(\n",
    "                np.uint8)\n",
    "            image_name = str(index) + \".png\"\n",
    "            image_path = os.path.join(export_path, image_label, image_name)\n",
    "            imsave(image_path, image)\n",
    "                \n",
    "        except (ValueError, AttributeError) as e:\n",
    "            pass\n"
   ]
  },
  {
   "cell_type": "markdown",
   "metadata": {},
   "source": [
    "## Start preprocessing"
   ]
  },
  {
   "cell_type": "code",
   "execution_count": 34,
   "metadata": {},
   "outputs": [
    {
     "name": "stderr",
     "output_type": "stream",
     "text": [
      "100%|██████████| 63849/63849 [1:39:25<00:00, 10.70it/s]  \n"
     ]
    }
   ],
   "source": [
    "start_preprocess(images_dir_df, EXPORT_PATH, plot=False)"
   ]
  }
 ],
 "metadata": {
  "interpreter": {
   "hash": "5b3f1f13e90dc6664e7d61b0253895c1fa2887a60d55d2a4f9d6fe4302b77182"
  },
  "kernelspec": {
   "display_name": "Python 3.9.8 64-bit",
   "language": "python",
   "name": "python3"
  },
  "language_info": {
   "codemirror_mode": {
    "name": "ipython",
    "version": 3
   },
   "file_extension": ".py",
   "mimetype": "text/x-python",
   "name": "python",
   "nbconvert_exporter": "python",
   "pygments_lexer": "ipython3",
   "version": "3.9.8"
  },
  "orig_nbformat": 4
 },
 "nbformat": 4,
 "nbformat_minor": 2
}
